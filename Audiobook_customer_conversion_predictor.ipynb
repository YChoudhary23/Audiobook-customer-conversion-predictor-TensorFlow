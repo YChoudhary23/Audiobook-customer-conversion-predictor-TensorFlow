{
 "cells": [
  {
   "cell_type": "markdown",
   "id": "6137c2c4",
   "metadata": {},
   "source": [
    "### This notebook contains a Classification model using TensorFlow to predict Audiobook customer conversion\n",
    "*  **Data source**: Audiobooks_data.csv (Available in github repo) <br>\n",
    "*  **Data preprocessing**: Balancing dataset using SMOTETomek,Scaling inputs,Splitting into training,validattion & test, Saving into .npz format <br>\n",
    "*  **Model building**: Loading the three .npz files, Training the model using Neural network <br>\n",
    "*  **Model Evaluation**: Evaluating the trained model "
   ]
  },
  {
   "cell_type": "code",
   "execution_count": 19,
   "id": "72c4c785",
   "metadata": {},
   "outputs": [],
   "source": [
    "import numpy as np\n",
    "import pandas as pd\n",
    "from sklearn.preprocessing import StandardScaler"
   ]
  },
  {
   "cell_type": "code",
   "execution_count": 20,
   "id": "d71ff5da",
   "metadata": {},
   "outputs": [
    {
     "data": {
      "text/html": [
       "<div>\n",
       "<style scoped>\n",
       "    .dataframe tbody tr th:only-of-type {\n",
       "        vertical-align: middle;\n",
       "    }\n",
       "\n",
       "    .dataframe tbody tr th {\n",
       "        vertical-align: top;\n",
       "    }\n",
       "\n",
       "    .dataframe thead th {\n",
       "        text-align: right;\n",
       "    }\n",
       "</style>\n",
       "<table border=\"1\" class=\"dataframe\">\n",
       "  <thead>\n",
       "    <tr style=\"text-align: right;\">\n",
       "      <th></th>\n",
       "      <th>ID</th>\n",
       "      <th>Book length(mins)_overall</th>\n",
       "      <th>Book length(mins)_avg</th>\n",
       "      <th>Price_overall</th>\n",
       "      <th>Price_avg</th>\n",
       "      <th>Review</th>\n",
       "      <th>Review ?/10</th>\n",
       "      <th>Completion</th>\n",
       "      <th>Listened(mins)</th>\n",
       "      <th>Support request</th>\n",
       "      <th>Last visited after Purchase date</th>\n",
       "      <th>Targets</th>\n",
       "    </tr>\n",
       "  </thead>\n",
       "  <tbody>\n",
       "    <tr>\n",
       "      <th>0</th>\n",
       "      <td>994</td>\n",
       "      <td>1620.0</td>\n",
       "      <td>1620</td>\n",
       "      <td>19.73</td>\n",
       "      <td>19.73</td>\n",
       "      <td>1</td>\n",
       "      <td>10.00</td>\n",
       "      <td>0.99</td>\n",
       "      <td>1603.8</td>\n",
       "      <td>5</td>\n",
       "      <td>92</td>\n",
       "      <td>0</td>\n",
       "    </tr>\n",
       "    <tr>\n",
       "      <th>1</th>\n",
       "      <td>1143</td>\n",
       "      <td>2160.0</td>\n",
       "      <td>2160</td>\n",
       "      <td>5.33</td>\n",
       "      <td>5.33</td>\n",
       "      <td>0</td>\n",
       "      <td>8.91</td>\n",
       "      <td>0.00</td>\n",
       "      <td>0.0</td>\n",
       "      <td>0</td>\n",
       "      <td>0</td>\n",
       "      <td>0</td>\n",
       "    </tr>\n",
       "    <tr>\n",
       "      <th>2</th>\n",
       "      <td>2059</td>\n",
       "      <td>2160.0</td>\n",
       "      <td>2160</td>\n",
       "      <td>5.33</td>\n",
       "      <td>5.33</td>\n",
       "      <td>0</td>\n",
       "      <td>8.91</td>\n",
       "      <td>0.00</td>\n",
       "      <td>0.0</td>\n",
       "      <td>0</td>\n",
       "      <td>388</td>\n",
       "      <td>0</td>\n",
       "    </tr>\n",
       "    <tr>\n",
       "      <th>3</th>\n",
       "      <td>2882</td>\n",
       "      <td>1620.0</td>\n",
       "      <td>1620</td>\n",
       "      <td>5.96</td>\n",
       "      <td>5.96</td>\n",
       "      <td>0</td>\n",
       "      <td>8.91</td>\n",
       "      <td>0.42</td>\n",
       "      <td>680.4</td>\n",
       "      <td>1</td>\n",
       "      <td>129</td>\n",
       "      <td>0</td>\n",
       "    </tr>\n",
       "    <tr>\n",
       "      <th>4</th>\n",
       "      <td>3342</td>\n",
       "      <td>2160.0</td>\n",
       "      <td>2160</td>\n",
       "      <td>5.33</td>\n",
       "      <td>5.33</td>\n",
       "      <td>0</td>\n",
       "      <td>8.91</td>\n",
       "      <td>0.22</td>\n",
       "      <td>475.2</td>\n",
       "      <td>0</td>\n",
       "      <td>361</td>\n",
       "      <td>0</td>\n",
       "    </tr>\n",
       "  </tbody>\n",
       "</table>\n",
       "</div>"
      ],
      "text/plain": [
       "     ID  Book length(mins)_overall  Book length(mins)_avg  Price_overall  \\\n",
       "0   994                     1620.0                   1620          19.73   \n",
       "1  1143                     2160.0                   2160           5.33   \n",
       "2  2059                     2160.0                   2160           5.33   \n",
       "3  2882                     1620.0                   1620           5.96   \n",
       "4  3342                     2160.0                   2160           5.33   \n",
       "\n",
       "   Price_avg  Review  Review ?/10  Completion  Listened(mins)  \\\n",
       "0      19.73       1        10.00        0.99          1603.8   \n",
       "1       5.33       0         8.91        0.00             0.0   \n",
       "2       5.33       0         8.91        0.00             0.0   \n",
       "3       5.96       0         8.91        0.42           680.4   \n",
       "4       5.33       0         8.91        0.22           475.2   \n",
       "\n",
       "   Support request  Last visited after Purchase date   Targets  \n",
       "0                5                                 92        0  \n",
       "1                0                                  0        0  \n",
       "2                0                                388        0  \n",
       "3                1                                129        0  \n",
       "4                0                                361        0  "
      ]
     },
     "execution_count": 20,
     "metadata": {},
     "output_type": "execute_result"
    }
   ],
   "source": [
    "raw_data = pd.read_csv('E:\\\\Udemy\\\\Data science\\\\Python\\\\Deep Learning\\\\Classification\\\\Business case\\\\Audiobooks_data.csv')\n",
    "raw_data.head()"
   ]
  },
  {
   "cell_type": "code",
   "execution_count": 21,
   "id": "653effa0",
   "metadata": {},
   "outputs": [
    {
     "data": {
      "text/plain": [
       "array([0, 1], dtype=int64)"
      ]
     },
     "execution_count": 21,
     "metadata": {},
     "output_type": "execute_result"
    }
   ],
   "source": [
    "raw_data['Targets'].unique()"
   ]
  },
  {
   "cell_type": "code",
   "execution_count": 29,
   "id": "3c6a06c3",
   "metadata": {},
   "outputs": [
    {
     "name": "stdout",
     "output_type": "stream",
     "text": [
      "No of class1 :2237 & No of class0 :11847\n"
     ]
    }
   ],
   "source": [
    "class1 = len([i for i in raw_data['Targets'] if i ==1])\n",
    "class0 = len([i for i in raw_data['Targets'] if i ==0])\n",
    "print('No of class1 :{} & No of class0 :{}'.format(class1,class0))"
   ]
  },
  {
   "cell_type": "code",
   "execution_count": 23,
   "id": "d74421a8",
   "metadata": {},
   "outputs": [
    {
     "data": {
      "image/png": "[encoded data removed]",
      "text/plain": [
       "<Figure size 640x480 with 1 Axes>"
      ]
     },
     "metadata": {},
     "output_type": "display_data"
    }
   ],
   "source": [
    "import matplotlib.pyplot as plt\n",
    "plt.bar(['Class1','Class0'], [class1,class0])\n",
    "plt.ylabel('Count')\n",
    "plt.title('Dataset balance check')\n",
    "plt.show()"
   ]
  },
  {
   "cell_type": "code",
   "execution_count": 24,
   "id": "559ae2e2",
   "metadata": {},
   "outputs": [
    {
     "name": "stdout",
     "output_type": "stream",
     "text": [
      "(14084, 11) (14084,)\n"
     ]
    }
   ],
   "source": [
    "#Split the dataset into features and targets\n",
    "data = raw_data.copy()\n",
    "features = data.iloc[:,:-1]\n",
    "targets = data.iloc[:,-1]\n",
    "print(features.shape,targets.shape)"
   ]
  },
  {
   "cell_type": "markdown",
   "id": "e87aa706",
   "metadata": {},
   "source": [
    "#### Balancing the dataset"
   ]
  },
  {
   "cell_type": "code",
   "execution_count": 28,
   "id": "c2879c9e",
   "metadata": {},
   "outputs": [
    {
     "name": "stdout",
     "output_type": "stream",
     "text": [
      "(21948, 11) (21948,)\n"
     ]
    }
   ],
   "source": [
    "#Using SMOTETomek for balancing\n",
    "from imblearn.combine import SMOTETomek\n",
    "smt = SMOTETomek(random_state=42)\n",
    "features_bal , targets_bal = smt.fit_resample(features,targets)\n",
    "print(features_bal.shape,targets_bal.shape)"
   ]
  },
  {
   "cell_type": "code",
   "execution_count": 31,
   "id": "90d75657",
   "metadata": {},
   "outputs": [
    {
     "name": "stdout",
     "output_type": "stream",
     "text": [
      "No of class1 :10974 & No of class0 :10974\n"
     ]
    }
   ],
   "source": [
    "class1 = len([i for i in targets_bal if i==1])\n",
    "class0 = len([i for i in targets_bal if i==0])\n",
    "print('No of class1 :{} & No of class0 :{}'.format(class1,class0))"
   ]
  },
  {
   "cell_type": "markdown",
   "id": "3ef9d98a",
   "metadata": {},
   "source": [
    "#### Scaling the Inputs"
   ]
  },
  {
   "cell_type": "code",
   "execution_count": 32,
   "id": "897b747e",
   "metadata": {},
   "outputs": [],
   "source": [
    "scaler = StandardScaler()\n",
    "scaler = scaler.fit(features_bal)\n",
    "scaled_input = scaler.transform(features_bal)"
   ]
  },
  {
   "cell_type": "markdown",
   "id": "6c89e69c",
   "metadata": {},
   "source": [
    "#### Splitting dataset into training, validation and test"
   ]
  },
  {
   "cell_type": "code",
   "execution_count": 33,
   "id": "a56fc91d",
   "metadata": {},
   "outputs": [
    {
     "name": "stdout",
     "output_type": "stream",
     "text": [
      "0.5017465701412444\n",
      "0.48428246013667425\n",
      "0.5043037974683544\n"
     ]
    }
   ],
   "source": [
    "from sklearn.model_selection import train_test_split\n",
    "input_train, input_test, output_train, output_test = train_test_split(scaled_input, targets_bal, test_size=0.1, random_state=42)\n",
    "validation_size = int(0.1 * input_train.shape[0])\n",
    "validation_input =  input_train[input_train.shape[0]-validation_size:]\n",
    "validation_output = output_train[output_train.shape[0]-validation_size:]\n",
    "#Confirming balance of each dataset\n",
    "print(np.sum(output_train)/output_train.shape[0])\n",
    "print(np.sum(output_test)/output_test.shape[0])\n",
    "print(np.sum(validation_output)/validation_output.shape[0])"
   ]
  },
  {
   "cell_type": "markdown",
   "id": "34e0fcb4",
   "metadata": {},
   "source": [
    "#### Saving the three datasets in .npz format"
   ]
  },
  {
   "cell_type": "code",
   "execution_count": 34,
   "id": "479e6c07",
   "metadata": {},
   "outputs": [],
   "source": [
    "np.savez('Training_audiobook.npz', features= input_train, targets= output_train)\n",
    "np.savez('Validation_audiobook.npz', features= input_test, targets= output_test)\n",
    "np.savez('Test_audiobook.npz', features= validation_input, targets= validation_output)"
   ]
  },
  {
   "cell_type": "markdown",
   "id": "acd66015",
   "metadata": {},
   "source": [
    "#### Loading .npz datasets"
   ]
  },
  {
   "cell_type": "code",
   "execution_count": 35,
   "id": "a524709d",
   "metadata": {},
   "outputs": [],
   "source": [
    "temp = np.load('Training_audiobook.npz')\n",
    "#print(temp['targets'][0])\n",
    "train_inputs, train_outputs = temp['features'].astype(float), temp['targets'].astype(int)\n",
    "#print(train_outputs[0])\n",
    "temp = np.load('Validation_audiobook.npz')\n",
    "val_inputs, val_outputs = temp['features'].astype(float), temp['targets'].astype(int)\n",
    "temp = np.load('Test_audiobook.npz')\n",
    "test_inputs, test_outputs = temp['features'].astype(float), temp['targets'].astype(int)"
   ]
  },
  {
   "cell_type": "markdown",
   "id": "dcc1e3f9",
   "metadata": {},
   "source": [
    "#### Classification model using TensorFlow"
   ]
  },
  {
   "cell_type": "code",
   "execution_count": 36,
   "id": "7ff56917",
   "metadata": {},
   "outputs": [],
   "source": [
    "import tensorflow as tf"
   ]
  },
  {
   "cell_type": "code",
   "execution_count": 37,
   "id": "fa2a47dd",
   "metadata": {},
   "outputs": [
    {
     "name": "stdout",
     "output_type": "stream",
     "text": [
      "Epoch 1/100\n",
      "198/198 - 5s - loss: 0.4227 - accuracy: 0.7956 - val_loss: 0.3522 - val_accuracy: 0.8392 - 5s/epoch - 25ms/step\n",
      "Epoch 2/100\n",
      "198/198 - 1s - loss: 0.3202 - accuracy: 0.8528 - val_loss: 0.3256 - val_accuracy: 0.8501 - 563ms/epoch - 3ms/step\n",
      "Epoch 3/100\n",
      "198/198 - 1s - loss: 0.2999 - accuracy: 0.8619 - val_loss: 0.3103 - val_accuracy: 0.8519 - 567ms/epoch - 3ms/step\n",
      "Epoch 4/100\n",
      "198/198 - 1s - loss: 0.2897 - accuracy: 0.8663 - val_loss: 0.3075 - val_accuracy: 0.8524 - 547ms/epoch - 3ms/step\n",
      "Epoch 5/100\n",
      "198/198 - 1s - loss: 0.2816 - accuracy: 0.8737 - val_loss: 0.2978 - val_accuracy: 0.8569 - 548ms/epoch - 3ms/step\n",
      "Epoch 6/100\n",
      "198/198 - 1s - loss: 0.2775 - accuracy: 0.8734 - val_loss: 0.2908 - val_accuracy: 0.8633 - 547ms/epoch - 3ms/step\n",
      "Epoch 7/100\n",
      "198/198 - 1s - loss: 0.2727 - accuracy: 0.8773 - val_loss: 0.2956 - val_accuracy: 0.8606 - 605ms/epoch - 3ms/step\n",
      "Epoch 8/100\n",
      "198/198 - 1s - loss: 0.2689 - accuracy: 0.8780 - val_loss: 0.2935 - val_accuracy: 0.8615 - 544ms/epoch - 3ms/step\n"
     ]
    },
    {
     "data": {
      "text/plain": [
       "<keras.callbacks.History at 0x224c0d7e348>"
      ]
     },
     "execution_count": 37,
     "metadata": {},
     "output_type": "execute_result"
    }
   ],
   "source": [
    "\n",
    "\n",
    "output_size = 2\n",
    "hidden_width = 50\n",
    "\n",
    "model = tf.keras.Sequential([\n",
    "                            tf.keras.layers.Dense(hidden_width, activation='relu'),\n",
    "                            tf.keras.layers.Dense(hidden_width, activation='relu'),\n",
    "                            tf.keras.layers.Dense(output_size, activation='sigmoid')\n",
    "])\n",
    "\n",
    "model.compile(optimizer='adam', loss='sparse_categorical_crossentropy', metrics=['accuracy'])\n",
    "\n",
    "batch_size = 100\n",
    "max_epochs = 100\n",
    "early_stop = tf.keras.callbacks.EarlyStopping(patience=2)\n",
    "model.fit(train_inputs,\n",
    "          train_outputs,\n",
    "          batch_size = batch_size,\n",
    "          epochs = max_epochs,\n",
    "          callbacks = [early_stop],\n",
    "          validation_data = (val_inputs,val_outputs),\n",
    "          verbose=2\n",
    "          )"
   ]
  },
  {
   "cell_type": "markdown",
   "id": "15c55663",
   "metadata": {},
   "source": [
    "#### Evaluating the model"
   ]
  },
  {
   "cell_type": "code",
   "execution_count": 38,
   "id": "59b23904",
   "metadata": {},
   "outputs": [
    {
     "name": "stdout",
     "output_type": "stream",
     "text": [
      "62/62 [==============================] - 0s 3ms/step - loss: 0.2694 - accuracy: 0.8805\n",
      "Test Loss: 0.27 Test Accuracy: 88.05%\n"
     ]
    }
   ],
   "source": [
    "test_loss, test_accuracy = model.evaluate(test_inputs,test_outputs)\n",
    "print('Test Loss: {:.2f} Test Accuracy: {:.2f}%'.format(test_loss, test_accuracy*100))"
   ]
  }
 ],
 "metadata": {
  "kernelspec": {
   "display_name": "py3-TF2.0",
   "language": "python",
   "name": "py3-tf2.0"
  },
  "language_info": {
   "codemirror_mode": {
    "name": "ipython",
    "version": 3
   },
   "file_extension": ".py",
   "mimetype": "text/x-python",
   "name": "python",
   "nbconvert_exporter": "python",
   "pygments_lexer": "ipython3",
   "version": "3.7.13"
  }
 },
 "nbformat": 4,
 "nbformat_minor": 5
}
